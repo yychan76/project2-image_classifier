{
 "cells": [
  {
   "cell_type": "markdown",
   "metadata": {
    "collapsed": true
   },
   "source": [
    "# Image Classification\n",
    "In this project, you'll classify images from the [CIFAR-10 dataset](https://www.cs.toronto.edu/~kriz/cifar.html).  The dataset consists of airplanes, dogs, cats, and other objects. You'll preprocess the images, then train a convolutional neural network on all the samples. The images need to be normalized and the labels need to be one-hot encoded.  You'll get to apply what you learned and build a convolutional, max pooling, dropout, and fully connected layers.  At the end, you'll get to see your neural network's predictions on the sample images.\n",
    "## Get the Data\n",
    "Run the following cell to download the [CIFAR-10 dataset for python](https://www.cs.toronto.edu/~kriz/cifar-10-python.tar.gz)."
   ]
  },
  {
   "cell_type": "code",
   "execution_count": 1,
   "metadata": {
    "collapsed": false,
    "scrolled": false
   },
   "outputs": [
    {
     "name": "stdout",
     "output_type": "stream",
     "text": [
      "All files found!\n"
     ]
    }
   ],
   "source": [
    "\"\"\"\n",
    "DON'T MODIFY ANYTHING IN THIS CELL THAT IS BELOW THIS LINE\n",
    "\"\"\"\n",
    "from urllib.request import urlretrieve\n",
    "from os.path import isfile, isdir\n",
    "from tqdm import tqdm\n",
    "import problem_unittests as tests\n",
    "import tarfile\n",
    "\n",
    "cifar10_dataset_folder_path = 'cifar-10-batches-py'\n",
    "\n",
    "class DLProgress(tqdm):\n",
    "    last_block = 0\n",
    "\n",
    "    def hook(self, block_num=1, block_size=1, total_size=None):\n",
    "        self.total = total_size\n",
    "        self.update((block_num - self.last_block) * block_size)\n",
    "        self.last_block = block_num\n",
    "\n",
    "if not isfile('cifar-10-python.tar.gz'):\n",
    "    with DLProgress(unit='B', unit_scale=True, miniters=1, desc='CIFAR-10 Dataset') as pbar:\n",
    "        urlretrieve(\n",
    "            'https://www.cs.toronto.edu/~kriz/cifar-10-python.tar.gz',\n",
    "            'cifar-10-python.tar.gz',\n",
    "            pbar.hook)\n",
    "\n",
    "if not isdir(cifar10_dataset_folder_path):\n",
    "    with tarfile.open('cifar-10-python.tar.gz') as tar:\n",
    "        tar.extractall()\n",
    "        tar.close()\n",
    "\n",
    "\n",
    "tests.test_folder_path(cifar10_dataset_folder_path)"
   ]
  },
  {
   "cell_type": "markdown",
   "metadata": {},
   "source": [
    "## Explore the Data\n",
    "The dataset is broken into batches to prevent your machine from running out of memory.  The CIFAR-10 dataset consists of 5 batches, named `data_batch_1`, `data_batch_2`, etc.. Each batch contains the labels and images that are one of the following:\n",
    "* airplane\n",
    "* automobile\n",
    "* bird\n",
    "* cat\n",
    "* deer\n",
    "* dog\n",
    "* frog\n",
    "* horse\n",
    "* ship\n",
    "* truck\n",
    "\n",
    "Understanding a dataset is part of making predictions on the data.  Play around with the code cell below by changing the `batch_id` and `sample_id`. The `batch_id` is the id for a batch (1-5). The `sample_id` is the id for a image and label pair in the batch.\n",
    "\n",
    "Ask yourself \"What are all possible labels?\", \"What is the range of values for the image data?\", \"Are the labels in order or random?\".  Answers to questions like these will help you preprocess the data and end up with better predictions."
   ]
  },
  {
   "cell_type": "code",
   "execution_count": 2,
   "metadata": {
    "collapsed": false,
    "scrolled": true
   },
   "outputs": [
    {
     "name": "stdout",
     "output_type": "stream",
     "text": [
      "\n",
      "Stats of batch 5:\n",
      "Samples: 10000\n",
      "Label Counts: {0: 1014, 1: 1014, 2: 952, 3: 1016, 4: 997, 5: 1025, 6: 980, 7: 977, 8: 1003, 9: 1022}\n",
      "First 20 Labels: [1, 8, 5, 1, 5, 7, 4, 3, 8, 2, 7, 2, 0, 1, 5, 9, 6, 2, 0, 8]\n",
      "\n",
      "Example of Image 3:\n",
      "Image - Min Value: 0 Max Value: 252\n",
      "Image - Shape: (32, 32, 3)\n",
      "Label - Label Id: 1 Name: automobile\n"
     ]
    },
    {
     "data": {
      "image/png": "[encoded data removed]",
      "text/plain": [
       "<matplotlib.figure.Figure at 0x2a1de9694e0>"
      ]
     },
     "metadata": {
      "image/png": {
       "height": 250,
       "width": 253
      }
     },
     "output_type": "display_data"
    }
   ],
   "source": [
    "%matplotlib inline\n",
    "%config InlineBackend.figure_format = 'retina'\n",
    "\n",
    "import helper\n",
    "import numpy as np\n",
    "\n",
    "# Explore the dataset\n",
    "batch_id = 5\n",
    "sample_id = 3\n",
    "helper.display_stats(cifar10_dataset_folder_path, batch_id, sample_id)"
   ]
  },
  {
   "cell_type": "markdown",
   "metadata": {},
   "source": [
    "Stats of batch 1:\n",
    "- Samples: 10000\n",
    "- Label Counts: {0: 1005, 1: 974, 2: 1032, 3: 1016, 4: 999, 5: 937, 6: 1030, 7: 1001, 8: 1025, 9: 981}\n",
    "- First 20 Labels: [6, 9, 9, 4, 1, 1, 2, 7, 8, 3, 4, 7, 7, 2, 9, 9, 9, 3, 2, 6]\n",
    "\n",
    "Stats of batch 2:\n",
    "- Samples: 10000\n",
    "- Label Counts: {0: 984, 1: 1007, 2: 1010, 3: 995, 4: 1010, 5: 988, 6: 1008, 7: 1026, 8: 987, 9: 985}\n",
    "- First 20 Labels: [1, 6, 6, 8, 8, 3, 4, 6, 0, 6, 0, 3, 6, 6, 5, 4, 8, 3, 2, 6]\n",
    "\n",
    "Stats of batch 3:\n",
    "- Samples: 10000\n",
    "- Label Counts: {0: 994, 1: 1042, 2: 965, 3: 997, 4: 990, 5: 1029, 6: 978, 7: 1015, 8: 961, 9: 1029}\n",
    "- First 20 Labels: [8, 5, 0, 6, 9, 2, 8, 3, 6, 2, 7, 4, 6, 9, 0, 0, 7, 3, 7, 2]\n",
    "\n",
    "Stats of batch 4:\n",
    "- Samples: 10000\n",
    "- Label Counts: {0: 1003, 1: 963, 2: 1041, 3: 976, 4: 1004, 5: 1021, 6: 1004, 7: 981, 8: 1024, 9: 983}\n",
    "- First 20 Labels: [0, 6, 0, 2, 7, 2, 1, 2, 4, 1, 5, 6, 6, 3, 1, 3, 5, 5, 8, 1]\n",
    "\n",
    "Stats of batch 5:\n",
    "- Samples: 10000\n",
    "- Label Counts: {0: 1014, 1: 1014, 2: 952, 3: 1016, 4: 997, 5: 1025, 6: 980, 7: 977, 8: 1003, 9: 1022}\n",
    "- First 20 Labels: [1, 8, 5, 1, 5, 7, 4, 3, 8, 2, 7, 2, 0, 1, 5, 9, 6, 2, 0, 8]"
   ]
  },
  {
   "cell_type": "markdown",
   "metadata": {},
   "source": [
    "| Batch ID | Samples | Label Counts | First 20 Labels |\n",
    "|:--------:|:-------:|:------------:|:---------------:|\n",
    "| 1 | 10000 | {0: 1005, 1: 974, 2: 1032, 3: 1016, 4: 999, 5: 937, 6: 1030, 7: 1001, 8: 1025, 9: 981} | [6, 9, 9, 4, 1, 1, 2, 7, 8, 3, 4, 7, 7, 2, 9, 9, 9, 3, 2, 6]|\n",
    "| 2 | 10000 | {0: 984, 1: 1007, 2: 1010, 3: 995, 4: 1010, 5: 988, 6: 1008, 7: 1026, 8: 987, 9: 985} | [1, 6, 6, 8, 8, 3, 4, 6, 0, 6, 0, 3, 6, 6, 5, 4, 8, 3, 2, 6] |\n",
    "| 3 | 10000 | {0: 994, 1: 1042, 2: 965, 3: 997, 4: 990, 5: 1029, 6: 978, 7: 1015, 8: 961, 9: 1029} | [8, 5, 0, 6, 9, 2, 8, 3, 6, 2, 7, 4, 6, 9, 0, 0, 7, 3, 7, 2] |\n",
    "| 4 | 10000 | {0: 1003, 1: 963, 2: 1041, 3: 976, 4: 1004, 5: 1021, 6: 1004, 7: 981, 8: 1024, 9: 983} | [0, 6, 0, 2, 7, 2, 1, 2, 4, 1, 5, 6, 6, 3, 1, 3, 5, 5, 8, 1] |\n",
    "| 5 | 10000 | {0: 1014, 1: 1014, 2: 952, 3: 1016, 4: 997, 5: 1025, 6: 980, 7: 977, 8: 1003, 9: 1022} | [1, 8, 5, 1, 5, 7, 4, 3, 8, 2, 7, 2, 0, 1, 5, 9, 6, 2, 0, 8] |"
   ]
  },
  {
   "cell_type": "code",
   "execution_count": 3,
   "metadata": {
    "collapsed": false,
    "scrolled": false
   },
   "outputs": [
    {
     "name": "stdout",
     "output_type": "stream",
     "text": [
      "{'label_names': ['airplane', 'automobile', 'bird', 'cat', 'deer', 'dog', 'frog', 'horse', 'ship', 'truck'], 'num_cases_per_batch': 10000, 'num_vis': 3072}\n"
     ]
    },
    {
     "data": {
      "text/plain": [
       "['airplane',\n",
       " 'automobile',\n",
       " 'bird',\n",
       " 'cat',\n",
       " 'deer',\n",
       " 'dog',\n",
       " 'frog',\n",
       " 'horse',\n",
       " 'ship',\n",
       " 'truck']"
      ]
     },
     "execution_count": 3,
     "metadata": {},
     "output_type": "execute_result"
    }
   ],
   "source": [
    "import importlib\n",
    "importlib.reload(helper)\n",
    "# just exploring how to read from batches.meta\n",
    "helper._load_label_names_from_file(cifar10_dataset_folder_path)"
   ]
  },
  {
   "cell_type": "markdown",
   "metadata": {},
   "source": [
    "## Implement Preprocess Functions\n",
    "### Normalize\n",
    "In the cell below, implement the `normalize` function to take in image data, `x`, and return it as a normalized Numpy array. The values should be in the range of 0 to 1, inclusive.  The return object should be the same shape as `x`."
   ]
  },
  {
   "cell_type": "code",
   "execution_count": 4,
   "metadata": {
    "collapsed": false
   },
   "outputs": [
    {
     "name": "stdout",
     "output_type": "stream",
     "text": [
      "Tests Passed\n"
     ]
    }
   ],
   "source": [
    "def normalize(x):\n",
    "    \"\"\"\n",
    "    Normalize a list of sample image data in the range of 0 to 1\n",
    "    : x: List of image data.  The image shape is (32, 32, 3)\n",
    "    : return: Numpy array of normalize data\n",
    "    \"\"\"\n",
    "    # TODO: Implement Function\n",
    "    val_min = 0\n",
    "    val_max = 255\n",
    "    # data = (x - val_min) / (val_max - val_min)\n",
    "    # since we know val_min is always 0, remove some operations for speed \n",
    "    data = x / val_max\n",
    "    return data\n",
    "\n",
    "\n",
    "\"\"\"\n",
    "DON'T MODIFY ANYTHING IN THIS CELL THAT IS BELOW THIS LINE\n",
    "\"\"\"\n",
    "tests.test_normalize(normalize)"
   ]
  },
  {
   "cell_type": "markdown",
   "metadata": {},
   "source": [
    "### One-hot encode\n",
    "Just like the previous code cell, you'll be implementing a function for preprocessing.  This time, you'll implement the `one_hot_encode` function. The input, `x`, are a list of labels.  Implement the function to return the list of labels as One-Hot encoded Numpy array.  The possible values for labels are 0 to 9. The one-hot encoding function should return the same encoding for each value between each call to `one_hot_encode`.  Make sure to save the map of encodings outside the function.\n",
    "\n",
    "Hint: Don't reinvent the wheel."
   ]
  },
  {
   "cell_type": "code",
   "execution_count": 5,
   "metadata": {
    "collapsed": false
   },
   "outputs": [
    {
     "name": "stdout",
     "output_type": "stream",
     "text": [
      "Tests Passed\n"
     ]
    }
   ],
   "source": [
    "from sklearn.preprocessing import LabelBinarizer\n",
    "labels_lb = LabelBinarizer()\n",
    "possible_labels = range(10)\n",
    "labels_lb.fit(possible_labels)\n",
    "\n",
    "def one_hot_encode(x):\n",
    "    \"\"\"\n",
    "    One hot encode a list of sample labels. Return a one-hot encoded vector for each label.\n",
    "    : x: List of sample Labels\n",
    "    : return: Numpy array of one-hot encoded labels\n",
    "    \"\"\"\n",
    "    # TODO: Implement Function\n",
    "    enc_labels = labels_lb.transform(x)\n",
    "    return enc_labels\n",
    "\n",
    "\n",
    "\"\"\"\n",
    "DON'T MODIFY ANYTHING IN THIS CELL THAT IS BELOW THIS LINE\n",
    "\"\"\"\n",
    "tests.test_one_hot_encode(one_hot_encode)"
   ]
  },
  {
   "cell_type": "markdown",
   "metadata": {},
   "source": [
    "### Randomize Data\n",
    "As you saw from exploring the data above, the order of the samples are randomized.  It doesn't hurt to randomize it again, but you don't need to for this dataset."
   ]
  },
  {
   "cell_type": "markdown",
   "metadata": {},
   "source": [
    "## Preprocess all the data and save it\n",
    "Running the code cell below will preprocess all the CIFAR-10 data and save it to file. The code below also uses 10% of the training data for validation."
   ]
  },
  {
   "cell_type": "code",
   "execution_count": 6,
   "metadata": {
    "collapsed": false
   },
   "outputs": [],
   "source": [
    "\"\"\"\n",
    "DON'T MODIFY ANYTHING IN THIS CELL\n",
    "\"\"\"\n",
    "# Preprocess Training, Validation, and Testing Data\n",
    "helper.preprocess_and_save_data(cifar10_dataset_folder_path, normalize, one_hot_encode)"
   ]
  },
  {
   "cell_type": "markdown",
   "metadata": {},
   "source": [
    "# Check Point\n",
    "This is your first checkpoint.  If you ever decide to come back to this notebook or have to restart the notebook, you can start from here.  The preprocessed data has been saved to disk."
   ]
  },
  {
   "cell_type": "code",
   "execution_count": 1,
   "metadata": {
    "collapsed": true
   },
   "outputs": [],
   "source": [
    "\"\"\"\n",
    "DON'T MODIFY ANYTHING IN THIS CELL\n",
    "\"\"\"\n",
    "import pickle\n",
    "import problem_unittests as tests\n",
    "import helper\n",
    "\n",
    "# Load the Preprocessed Validation data\n",
    "valid_features, valid_labels = pickle.load(open('preprocess_validation.p', mode='rb'))"
   ]
  },
  {
   "cell_type": "code",
   "execution_count": 2,
   "metadata": {
    "collapsed": false
   },
   "outputs": [
    {
     "data": {
      "text/plain": [
       "(5000, 32, 32, 3)"
      ]
     },
     "execution_count": 2,
     "metadata": {},
     "output_type": "execute_result"
    }
   ],
   "source": [
    "valid_features.shape"
   ]
  },
  {
   "cell_type": "code",
   "execution_count": 3,
   "metadata": {
    "collapsed": false
   },
   "outputs": [
    {
     "data": {
      "text/plain": [
       "(5000, 10)"
      ]
     },
     "execution_count": 3,
     "metadata": {},
     "output_type": "execute_result"
    }
   ],
   "source": [
    "valid_labels.shape"
   ]
  },
  {
   "cell_type": "markdown",
   "metadata": {},
   "source": [
    "## Build the network\n",
    "For the neural network, you'll build each layer into a function.  Most of the code you've seen has been outside of functions. To test your code more thoroughly, we require that you put each layer in a function.  This allows us to give you better feedback and test for simple mistakes using our unittests before you submit your project.\n",
    "\n",
    ">**Note:** If you're finding it hard to dedicate enough time for this course each week, we've provided a small shortcut to this part of the project. In the next couple of problems, you'll have the option to use classes from the [TensorFlow Layers](https://www.tensorflow.org/api_docs/python/tf/layers) or [TensorFlow Layers (contrib)](https://www.tensorflow.org/api_guides/python/contrib.layers) packages to build each layer, except the layers you build in the \"Convolutional and Max Pooling Layer\" section.  TF Layers is similar to Keras's and TFLearn's abstraction to layers, so it's easy to pickup.\n",
    "\n",
    ">However, if you would like to get the most out of this course, try to solve all the problems _without_ using anything from the TF Layers packages. You **can** still use classes from other packages that happen to have the same name as ones you find in TF Layers! For example, instead of using the TF Layers version of the `conv2d` class, [tf.layers.conv2d](https://www.tensorflow.org/api_docs/python/tf/layers/conv2d), you would want to use the TF Neural Network version of `conv2d`, [tf.nn.conv2d](https://www.tensorflow.org/api_docs/python/tf/nn/conv2d). \n",
    "\n",
    "Let's begin!\n",
    "\n",
    "### Input\n",
    "The neural network needs to read the image data, one-hot encoded labels, and dropout keep probability. Implement the following functions\n",
    "* Implement `neural_net_image_input`\n",
    " * Return a [TF Placeholder](https://www.tensorflow.org/api_docs/python/tf/placeholder)\n",
    " * Set the shape using `image_shape` with batch size set to `None`.\n",
    " * Name the TensorFlow placeholder \"x\" using the TensorFlow `name` parameter in the [TF Placeholder](https://www.tensorflow.org/api_docs/python/tf/placeholder).\n",
    "* Implement `neural_net_label_input`\n",
    " * Return a [TF Placeholder](https://www.tensorflow.org/api_docs/python/tf/placeholder)\n",
    " * Set the shape using `n_classes` with batch size set to `None`.\n",
    " * Name the TensorFlow placeholder \"y\" using the TensorFlow `name` parameter in the [TF Placeholder](https://www.tensorflow.org/api_docs/python/tf/placeholder).\n",
    "* Implement `neural_net_keep_prob_input`\n",
    " * Return a [TF Placeholder](https://www.tensorflow.org/api_docs/python/tf/placeholder) for dropout keep probability.\n",
    " * Name the TensorFlow placeholder \"keep_prob\" using the TensorFlow `name` parameter in the [TF Placeholder](https://www.tensorflow.org/api_docs/python/tf/placeholder).\n",
    "\n",
    "These names will be used at the end of the project to load your saved model.\n",
    "\n",
    "Note: `None` for shapes in TensorFlow allow for a dynamic size."
   ]
  },
  {
   "cell_type": "code",
   "execution_count": 22,
   "metadata": {
    "collapsed": false
   },
   "outputs": [
    {
     "name": "stdout",
     "output_type": "stream",
     "text": [
      "Image Input Tests Passed.\n",
      "Label Input Tests Passed.\n",
      "Keep Prob Tests Passed.\n"
     ]
    }
   ],
   "source": [
    "import tensorflow as tf\n",
    "\n",
    "def neural_net_image_input(image_shape):\n",
    "    \"\"\"\n",
    "    Return a Tensor for a batch of image input\n",
    "    : image_shape: Shape of the images\n",
    "    : return: Tensor for image input.\n",
    "    \"\"\"\n",
    "    # TODO: Implement Function\n",
    "    return tf.placeholder(tf.float32, [None, *image_shape], name='x')\n",
    "\n",
    "\n",
    "def neural_net_label_input(n_classes):\n",
    "    \"\"\"\n",
    "    Return a Tensor for a batch of label input\n",
    "    : n_classes: Number of classes\n",
    "    : return: Tensor for label input.\n",
    "    \"\"\"\n",
    "    # TODO: Implement Function\n",
    "    return tf.placeholder(tf.float32, [None, n_classes], name='y')\n",
    "\n",
    "\n",
    "def neural_net_keep_prob_input():\n",
    "    \"\"\"\n",
    "    Return a Tensor for keep probability\n",
    "    : return: Tensor for keep probability.\n",
    "    \"\"\"\n",
    "    # TODO: Implement Function\n",
    "    return tf.placeholder(tf.float32, name='keep_prob')\n",
    "\n",
    "\n",
    "\"\"\"\n",
    "DON'T MODIFY ANYTHING IN THIS CELL THAT IS BELOW THIS LINE\n",
    "\"\"\"\n",
    "tf.reset_default_graph()\n",
    "tests.test_nn_image_inputs(neural_net_image_input)\n",
    "tests.test_nn_label_inputs(neural_net_label_input)\n",
    "tests.test_nn_keep_prob_inputs(neural_net_keep_prob_input)"
   ]
  },
  {
   "cell_type": "markdown",
   "metadata": {},
   "source": [
    "### Convolution and Max Pooling Layer\n",
    "Convolution layers have a lot of success with images. For this code cell, you should implement the function `conv2d_maxpool` to apply convolution then max pooling:\n",
    "* Create the weight and bias using `conv_ksize`, `conv_num_outputs` and the shape of `x_tensor`.\n",
    "* Apply a convolution to `x_tensor` using weight and `conv_strides`.\n",
    " * We recommend you use same padding, but you're welcome to use any padding.\n",
    "* Add bias\n",
    "* Add a nonlinear activation to the convolution.\n",
    "* Apply Max Pooling using `pool_ksize` and `pool_strides`.\n",
    " * We recommend you use same padding, but you're welcome to use any padding.\n",
    "\n",
    "**Note:** You **can't** use [TensorFlow Layers](https://www.tensorflow.org/api_docs/python/tf/layers) or [TensorFlow Layers (contrib)](https://www.tensorflow.org/api_guides/python/contrib.layers) for **this** layer, but you can still use TensorFlow's [Neural Network](https://www.tensorflow.org/api_docs/python/tf/nn) package. You may still use the shortcut option for all the **other** layers."
   ]
  },
  {
   "cell_type": "code",
   "execution_count": 56,
   "metadata": {
    "collapsed": false
   },
   "outputs": [
    {
     "name": "stdout",
     "output_type": "stream",
     "text": [
      "Tests Passed\n"
     ]
    }
   ],
   "source": [
    "def conv2d_maxpool(x_tensor, conv_num_outputs, conv_ksize, conv_strides, pool_ksize, pool_strides):\n",
    "    \"\"\"\n",
    "    Apply convolution then max pooling to x_tensor\n",
    "    :param x_tensor: TensorFlow Tensor\n",
    "    :param conv_num_outputs: Number of outputs for the convolutional layer\n",
    "    :param conv_ksize: kernel size 2-D Tuple for the convolutional layer\n",
    "    :param conv_strides: Stride 2-D Tuple for convolution\n",
    "    :param pool_ksize: kernel size 2-D Tuple for pool\n",
    "    :param pool_strides: Stride 2-D Tuple for pool\n",
    "    : return: A tensor that represents convolution and max pooling of x_tensor\n",
    "    \"\"\"\n",
    "    # TODO: Implement Function\n",
    "    height, width = conv_ksize\n",
    "    input_depth = x_tensor.get_shape().as_list()[-1]\n",
    "    output_depth = conv_num_outputs\n",
    "    filter_weights = tf.Variable(tf.truncated_normal([height, width, input_depth, output_depth], stddev=0.1), name='conv_weight')\n",
    "    #filter_bias = tf.Variable(tf.zeros([output_depth]), name='conv_bias')\n",
    "    filter_bias = tf.Variable(tf.constant(0.01, shape=[output_depth]), name='conv_bias')\n",
    "    padding = 'SAME'\n",
    "    conv = tf.nn.conv2d(x_tensor, filter=filter_weights, strides=[1, *conv_strides, 1], padding=padding) \n",
    "    conv = tf.nn.bias_add(conv, filter_bias)\n",
    "    conv = tf.nn.relu(conv)\n",
    "    conv = tf.nn.max_pool(conv, ksize=[1, *pool_ksize, 1], strides=[1, *pool_strides ,1], padding=padding)\n",
    "    return conv\n",
    "\n",
    "\n",
    "\"\"\"\n",
    "DON'T MODIFY ANYTHING IN THIS CELL THAT IS BELOW THIS LINE\n",
    "\"\"\"\n",
    "tests.test_con_pool(conv2d_maxpool)"
   ]
  },
  {
   "cell_type": "code",
   "execution_count": 6,
   "metadata": {
    "collapsed": false
   },
   "outputs": [
    {
     "data": {
      "text/plain": [
       "[4, 4, 10]"
      ]
     },
     "execution_count": 6,
     "metadata": {},
     "output_type": "execute_result"
    }
   ],
   "source": [
    "# checking conv output variable\n",
    "test_x = tf.placeholder(tf.float32, [None, 32, 32, 5])\n",
    "test_num_outputs = 10\n",
    "test_con_k = (2, 2)\n",
    "test_con_s = (4, 4)\n",
    "test_pool_k = (2, 2)\n",
    "test_pool_s = (2, 2)\n",
    "\n",
    "conv2d_maxpool_out = conv2d_maxpool(test_x, test_num_outputs, test_con_k, test_con_s, test_pool_k, test_pool_s)\n",
    "conv2d_maxpool_out.get_shape().as_list()[1:]"
   ]
  },
  {
   "cell_type": "markdown",
   "metadata": {},
   "source": [
    "### Flatten Layer\n",
    "Implement the `flatten` function to change the dimension of `x_tensor` from a 4-D tensor to a 2-D tensor.  The output should be the shape (*Batch Size*, *Flattened Image Size*). Shortcut option: you can use classes from the [TensorFlow Layers](https://www.tensorflow.org/api_docs/python/tf/layers) or [TensorFlow Layers (contrib)](https://www.tensorflow.org/api_guides/python/contrib.layers) packages for this layer. For more of a challenge, only use other TensorFlow packages."
   ]
  },
  {
   "cell_type": "code",
   "execution_count": 24,
   "metadata": {
    "collapsed": false
   },
   "outputs": [
    {
     "name": "stdout",
     "output_type": "stream",
     "text": [
      "Tests Passed\n"
     ]
    }
   ],
   "source": [
    "import numpy as np\n",
    "\n",
    "def get_flattened_size(tensor):\n",
    "    # this discards the first dimension which is batch size, giving [width,height,channel]\n",
    "    size = tensor.get_shape().as_list()[1:]\n",
    "    # then get product of the size = w*h*c\n",
    "    flat_size = np.prod(size)\n",
    "    return flat_size\n",
    "\n",
    "def flatten(x_tensor):\n",
    "    \"\"\"\n",
    "    Flatten x_tensor to (Batch Size, Flattened Image Size)\n",
    "    : x_tensor: A tensor of size (Batch Size, ...), where ... are the image dimensions.\n",
    "    : return: A tensor of size (Batch Size, Flattened Image Size).\n",
    "    \"\"\"\n",
    "    # TODO: Implement Function\n",
    "    flattened_image_size = get_flattened_size(x_tensor)\n",
    "    return tf.reshape(x_tensor, shape=[-1, flattened_image_size])\n",
    "\n",
    "\n",
    "\"\"\"\n",
    "DON'T MODIFY ANYTHING IN THIS CELL THAT IS BELOW THIS LINE\n",
    "\"\"\"\n",
    "tests.test_flatten(flatten)"
   ]
  },
  {
   "cell_type": "markdown",
   "metadata": {},
   "source": [
    "### Fully-Connected Layer\n",
    "Implement the `fully_conn` function to apply a fully connected layer to `x_tensor` with the shape (*Batch Size*, *num_outputs*). Shortcut option: you can use classes from the [TensorFlow Layers](https://www.tensorflow.org/api_docs/python/tf/layers) or [TensorFlow Layers (contrib)](https://www.tensorflow.org/api_guides/python/contrib.layers) packages for this layer. For more of a challenge, only use other TensorFlow packages."
   ]
  },
  {
   "cell_type": "code",
   "execution_count": 58,
   "metadata": {
    "collapsed": false
   },
   "outputs": [
    {
     "name": "stdout",
     "output_type": "stream",
     "text": [
      "Tests Passed\n"
     ]
    }
   ],
   "source": [
    "def fully_conn(x_tensor, num_outputs):\n",
    "    \"\"\"\n",
    "    Apply a fully connected layer to x_tensor using weight and bias\n",
    "    : x_tensor: A 2-D tensor where the first dimension is batch size.\n",
    "    : num_outputs: The number of output that the new tensor should be.\n",
    "    : return: A 2-D tensor where the second dimension is num_outputs.\n",
    "    \"\"\"\n",
    "    # TODO: Implement Function\n",
    "    flat_size = get_flattened_size(x_tensor) # alternatively can just use .get_shape().as_list()[-1] since input is 2-D\n",
    "    fc_weights = tf.Variable(tf.truncated_normal([flat_size, num_outputs], stddev=0.1), name='fc_weights')\n",
    "    #fc_bias = tf.Variable(tf.zeros([num_outputs]), name='fc_bias')\n",
    "    fc_bias = tf.Variable(tf.constant(0.01, shape=[num_outputs]), name='fc_bias')\n",
    "    x = tf.add(tf.matmul(x_tensor, fc_weights), fc_bias)\n",
    "    x = tf.nn.relu(x)\n",
    "    return x\n",
    "\n",
    "\"\"\"\n",
    "DON'T MODIFY ANYTHING IN THIS CELL THAT IS BELOW THIS LINE\n",
    "\"\"\"\n",
    "tests.test_fully_conn(fully_conn)"
   ]
  },
  {
   "cell_type": "markdown",
   "metadata": {},
   "source": [
    "### Output Layer\n",
    "Implement the `output` function to apply a fully connected layer to `x_tensor` with the shape (*Batch Size*, *num_outputs*). Shortcut option: you can use classes from the [TensorFlow Layers](https://www.tensorflow.org/api_docs/python/tf/layers) or [TensorFlow Layers (contrib)](https://www.tensorflow.org/api_guides/python/contrib.layers) packages for this layer. For more of a challenge, only use other TensorFlow packages.\n",
    "\n",
    "**Note:** Activation, softmax, or cross entropy should **not** be applied to this."
   ]
  },
  {
   "cell_type": "code",
   "execution_count": 59,
   "metadata": {
    "collapsed": false
   },
   "outputs": [
    {
     "name": "stdout",
     "output_type": "stream",
     "text": [
      "Tests Passed\n"
     ]
    }
   ],
   "source": [
    "def output(x_tensor, num_outputs):\n",
    "    \"\"\"\n",
    "    Apply a output layer to x_tensor using weight and bias\n",
    "    : x_tensor: A 2-D tensor where the first dimension is batch size.\n",
    "    : num_outputs: The number of output that the new tensor should be.\n",
    "    : return: A 2-D tensor where the second dimension is num_outputs.\n",
    "    \"\"\"\n",
    "    # TODO: Implement Function\n",
    "    flat_size = get_flattened_size(x_tensor)\n",
    "    out_weights = tf.Variable(tf.truncated_normal([flat_size, num_outputs], stddev=0.1), name='out_weights')\n",
    "    #out_bias = tf.Variable(tf.zeros([num_outputs]), name='out_bias')\n",
    "    out_bias = tf.Variable(tf.constant(0.01, shape=[num_outputs]), name='out_bias')\n",
    "    return tf.add(tf.matmul(x_tensor, out_weights), out_bias)\n",
    "\n",
    "\n",
    "\"\"\"\n",
    "DON'T MODIFY ANYTHING IN THIS CELL THAT IS BELOW THIS LINE\n",
    "\"\"\"\n",
    "tests.test_output(output)"
   ]
  },
  {
   "cell_type": "markdown",
   "metadata": {},
   "source": [
    "### Create Convolutional Model\n",
    "Implement the function `conv_net` to create a convolutional neural network model. The function takes in a batch of images, `x`, and outputs logits.  Use the layers you created above to create this model:\n",
    "\n",
    "* Apply 1, 2, or 3 Convolution and Max Pool layers\n",
    "* Apply a Flatten Layer\n",
    "* Apply 1, 2, or 3 Fully Connected Layers\n",
    "* Apply an Output Layer\n",
    "* Return the output\n",
    "* Apply [TensorFlow's Dropout](https://www.tensorflow.org/api_docs/python/tf/nn/dropout) to one or more layers in the model using `keep_prob`. "
   ]
  },
  {
   "cell_type": "code",
   "execution_count": 86,
   "metadata": {
    "collapsed": false
   },
   "outputs": [
    {
     "name": "stdout",
     "output_type": "stream",
     "text": [
      "Neural Network Built!\n"
     ]
    }
   ],
   "source": [
    "def conv_net(x, keep_prob):\n",
    "    \"\"\"\n",
    "    Create a convolutional neural network model\n",
    "    : x: Placeholder tensor that holds image data.\n",
    "    : keep_prob: Placeholder tensor that hold dropout keep probability.\n",
    "    : return: Tensor that represents logits\n",
    "    \"\"\"\n",
    "    # TODO: Apply 1, 2, or 3 Convolution and Max Pool layers\n",
    "    #    Play around with different number of outputs, kernel size and stride\n",
    "    # Function Definition from Above:\n",
    "    #    conv2d_maxpool(x_tensor, conv_num_outputs, conv_ksize, conv_strides, pool_ksize, pool_strides)\n",
    "    ## Conv layer1 16*16*32\n",
    "    x = conv2d_maxpool(x, conv_num_outputs=32, conv_ksize=(3,3), conv_strides=(1,1), pool_ksize=(2,2), pool_strides=(2,2))\n",
    "    \n",
    "    ## Dropout\n",
    "    x = tf.nn.dropout(x, keep_prob)\n",
    "    \n",
    "    ## Conv layer2 8*8*96\n",
    "    x = conv2d_maxpool(x, conv_num_outputs=96, conv_ksize=(3,3), conv_strides=(1,1), pool_ksize=(2,2), pool_strides=(2,2))\n",
    "    \n",
    "    ## Dropout\n",
    "    x = tf.nn.dropout(x, keep_prob)\n",
    "    \n",
    "    ## Conv layer3 4*4*192\n",
    "    x = conv2d_maxpool(x, conv_num_outputs=192, conv_ksize=(3,3), conv_strides=(1,1), pool_ksize=(2,2), pool_strides=(2,2))\n",
    "\n",
    "    # TODO: Apply a Flatten Layer\n",
    "    # Function Definition from Above:\n",
    "    #   flatten(x_tensor)\n",
    "    x = flatten(x)\n",
    "\n",
    "    # TODO: Apply 1, 2, or 3 Fully Connected Layers\n",
    "    #    Play around with different number of outputs\n",
    "    # Function Definition from Above:\n",
    "    #   fully_conn(x_tensor, num_outputs)\n",
    "    \n",
    "    ## FC layer1\n",
    "    x = fully_conn(x, 1024)\n",
    "    \n",
    "    ## Dropout\n",
    "    x = tf.nn.dropout(x, keep_prob)\n",
    "    \n",
    "    ## FC layer2\n",
    "    x = fully_conn(x, 512)\n",
    "    \n",
    "    ## Dropout\n",
    "    x = tf.nn.dropout(x, keep_prob)\n",
    "    \n",
    "     ## FC layer3\n",
    "    x = fully_conn(x, 128)\n",
    "    \n",
    "    ## Dropout\n",
    "    x = tf.nn.dropout(x, keep_prob)\n",
    "    \n",
    "    # TODO: Apply an Output Layer\n",
    "    #    Set this to the number of classes\n",
    "    # Function Definition from Above:\n",
    "    #   output(x_tensor, num_outputs)\n",
    "    n_classes = 10\n",
    "    x = output(x, n_classes)\n",
    "    \n",
    "    # TODO: return output\n",
    "    return x\n",
    "\n",
    "\n",
    "\"\"\"\n",
    "DON'T MODIFY ANYTHING IN THIS CELL THAT IS BELOW THIS LINE\n",
    "\"\"\"\n",
    "\n",
    "##############################\n",
    "## Build the Neural Network ##\n",
    "##############################\n",
    "\n",
    "# Remove previous weights, bias, inputs, etc..\n",
    "tf.reset_default_graph()\n",
    "\n",
    "# Inputs\n",
    "x = neural_net_image_input((32, 32, 3))\n",
    "y = neural_net_label_input(10)\n",
    "keep_prob = neural_net_keep_prob_input()\n",
    "\n",
    "# Model\n",
    "logits = conv_net(x, keep_prob)\n",
    "\n",
    "# Name logits Tensor, so that is can be loaded from disk after training\n",
    "logits = tf.identity(logits, name='logits')\n",
    "\n",
    "# Loss and Optimizer\n",
    "cost = tf.reduce_mean(tf.nn.softmax_cross_entropy_with_logits(logits=logits, labels=y))\n",
    "optimizer = tf.train.AdamOptimizer().minimize(cost)\n",
    "\n",
    "# Accuracy\n",
    "correct_pred = tf.equal(tf.argmax(logits, 1), tf.argmax(y, 1))\n",
    "accuracy = tf.reduce_mean(tf.cast(correct_pred, tf.float32), name='accuracy')\n",
    "\n",
    "tests.test_conv_net(conv_net)"
   ]
  },
  {
   "cell_type": "markdown",
   "metadata": {},
   "source": [
    "## Train the Neural Network\n",
    "### Single Optimization\n",
    "Implement the function `train_neural_network` to do a single optimization.  The optimization should use `optimizer` to optimize in `session` with a `feed_dict` of the following:\n",
    "* `x` for image input\n",
    "* `y` for labels\n",
    "* `keep_prob` for keep probability for dropout\n",
    "\n",
    "This function will be called for each batch, so `tf.global_variables_initializer()` has already been called.\n",
    "\n",
    "Note: Nothing needs to be returned. This function is only optimizing the neural network."
   ]
  },
  {
   "cell_type": "code",
   "execution_count": 70,
   "metadata": {
    "collapsed": false
   },
   "outputs": [
    {
     "name": "stdout",
     "output_type": "stream",
     "text": [
      "Tests Passed\n"
     ]
    }
   ],
   "source": [
    "def train_neural_network(session, optimizer, keep_probability, feature_batch, label_batch):\n",
    "    \"\"\"\n",
    "    Optimize the session on a batch of images and labels\n",
    "    : session: Current TensorFlow session\n",
    "    : optimizer: TensorFlow optimizer function\n",
    "    : keep_probability: keep probability\n",
    "    : feature_batch: Batch of Numpy image data\n",
    "    : label_batch: Batch of Numpy label data\n",
    "    \"\"\"\n",
    "    # TODO: Implement Function\n",
    "    session.run(optimizer, feed_dict={x: feature_batch, y: label_batch, keep_prob: keep_probability})\n",
    "\n",
    "\n",
    "\"\"\"\n",
    "DON'T MODIFY ANYTHING IN THIS CELL THAT IS BELOW THIS LINE\n",
    "\"\"\"\n",
    "tests.test_train_nn(train_neural_network)"
   ]
  },
  {
   "cell_type": "markdown",
   "metadata": {},
   "source": [
    "### Show Stats\n",
    "Implement the function `print_stats` to print loss and validation accuracy.  Use the global variables `valid_features` and `valid_labels` to calculate validation accuracy.  Use a keep probability of `1.0` to calculate the loss and validation accuracy."
   ]
  },
  {
   "cell_type": "code",
   "execution_count": 71,
   "metadata": {
    "collapsed": false
   },
   "outputs": [],
   "source": [
    "# not enough memory for full 5000 validation data, OOM when allocating tensor with shape[5000,32,32,32]\n",
    "test_valid_size = 2000\n",
    "\n",
    "def print_stats(session, feature_batch, label_batch, cost, accuracy):\n",
    "    \"\"\"\n",
    "    Print information about loss and validation accuracy\n",
    "    : session: Current TensorFlow session\n",
    "    : feature_batch: Batch of Numpy image data\n",
    "    : label_batch: Batch of Numpy label data\n",
    "    : cost: TensorFlow cost function\n",
    "    : accuracy: TensorFlow accuracy function\n",
    "    \"\"\"\n",
    "    # TODO: Implement Function\n",
    "    loss = session.run(cost, feed_dict={x: feature_batch, y: label_batch, keep_prob: 1.0})\n",
    "    valid_acc = session.run(accuracy, feed_dict={x: valid_features[:test_valid_size], y: valid_labels[:test_valid_size], keep_prob: 1.0})\n",
    "    print('Loss: {:>12.4f}   Validation Accuracy: {:>10.6f}'.format(loss, valid_acc))"
   ]
  },
  {
   "cell_type": "markdown",
   "metadata": {},
   "source": [
    "### Hyperparameters\n",
    "Tune the following parameters:\n",
    "* Set `epochs` to the number of iterations until the network stops learning or start overfitting\n",
    "* Set `batch_size` to the highest number that your machine has memory for.  Most people set them to common sizes of memory:\n",
    " * 64\n",
    " * 128\n",
    " * 256\n",
    " * ...\n",
    "* Set `keep_probability` to the probability of keeping a node using dropout"
   ]
  },
  {
   "cell_type": "code",
   "execution_count": 72,
   "metadata": {
    "collapsed": true
   },
   "outputs": [],
   "source": [
    "# TODO: Tune Parameters\n",
    "epochs = 50\n",
    "batch_size = 128\n",
    "keep_probability = 0.75"
   ]
  },
  {
   "cell_type": "markdown",
   "metadata": {},
   "source": [
    "### Train on a Single CIFAR-10 Batch\n",
    "Instead of training the neural network on all the CIFAR-10 batches of data, let's use a single batch. This should save time while you iterate on the model to get a better accuracy.  Once the final validation accuracy is 50% or greater, run the model on all the data in the next section."
   ]
  },
  {
   "cell_type": "code",
   "execution_count": 87,
   "metadata": {
    "collapsed": false,
    "scrolled": false
   },
   "outputs": [
    {
     "name": "stdout",
     "output_type": "stream",
     "text": [
      "Checking the Training on a Single Batch...\n",
      "Epoch  1, CIFAR-10 Batch 1:  Loss:       2.2955   Validation Accuracy:   0.134500\n",
      "Epoch  2, CIFAR-10 Batch 1:  Loss:       2.1028   Validation Accuracy:   0.211500\n",
      "Epoch  3, CIFAR-10 Batch 1:  Loss:       1.9400   Validation Accuracy:   0.348500\n",
      "Epoch  4, CIFAR-10 Batch 1:  Loss:       1.8219   Validation Accuracy:   0.376500\n",
      "Epoch  5, CIFAR-10 Batch 1:  Loss:       1.7347   Validation Accuracy:   0.408500\n",
      "Epoch  6, CIFAR-10 Batch 1:  Loss:       1.6082   Validation Accuracy:   0.460000\n",
      "Epoch  7, CIFAR-10 Batch 1:  Loss:       1.5265   Validation Accuracy:   0.467000\n",
      "Epoch  8, CIFAR-10 Batch 1:  Loss:       1.4408   Validation Accuracy:   0.490000\n",
      "Epoch  9, CIFAR-10 Batch 1:  Loss:       1.2272   Validation Accuracy:   0.519000\n",
      "Epoch 10, CIFAR-10 Batch 1:  Loss:       1.1721   Validation Accuracy:   0.523000\n",
      "Epoch 11, CIFAR-10 Batch 1:  Loss:       1.1024   Validation Accuracy:   0.546500\n",
      "Epoch 12, CIFAR-10 Batch 1:  Loss:       0.9461   Validation Accuracy:   0.559500\n",
      "Epoch 13, CIFAR-10 Batch 1:  Loss:       0.8922   Validation Accuracy:   0.549500\n",
      "Epoch 14, CIFAR-10 Batch 1:  Loss:       0.8359   Validation Accuracy:   0.562500\n",
      "Epoch 15, CIFAR-10 Batch 1:  Loss:       0.7234   Validation Accuracy:   0.581500\n",
      "Epoch 16, CIFAR-10 Batch 1:  Loss:       0.7301   Validation Accuracy:   0.585000\n",
      "Epoch 17, CIFAR-10 Batch 1:  Loss:       0.6268   Validation Accuracy:   0.597000\n",
      "Epoch 18, CIFAR-10 Batch 1:  Loss:       0.5377   Validation Accuracy:   0.609000\n",
      "Epoch 19, CIFAR-10 Batch 1:  Loss:       0.5016   Validation Accuracy:   0.609000\n",
      "Epoch 20, CIFAR-10 Batch 1:  Loss:       0.4661   Validation Accuracy:   0.609000\n",
      "Epoch 21, CIFAR-10 Batch 1:  Loss:       0.3726   Validation Accuracy:   0.608500\n",
      "Epoch 22, CIFAR-10 Batch 1:  Loss:       0.2963   Validation Accuracy:   0.623000\n",
      "Epoch 23, CIFAR-10 Batch 1:  Loss:       0.3013   Validation Accuracy:   0.624000\n",
      "Epoch 24, CIFAR-10 Batch 1:  Loss:       0.2228   Validation Accuracy:   0.620500\n",
      "Epoch 25, CIFAR-10 Batch 1:  Loss:       0.2079   Validation Accuracy:   0.621000\n",
      "Epoch 26, CIFAR-10 Batch 1:  Loss:       0.1347   Validation Accuracy:   0.614500\n",
      "Epoch 27, CIFAR-10 Batch 1:  Loss:       0.1346   Validation Accuracy:   0.629000\n",
      "Epoch 28, CIFAR-10 Batch 1:  Loss:       0.1077   Validation Accuracy:   0.621000\n",
      "Epoch 29, CIFAR-10 Batch 1:  Loss:       0.0695   Validation Accuracy:   0.591500\n",
      "Epoch 30, CIFAR-10 Batch 1:  Loss:       0.1001   Validation Accuracy:   0.599500\n",
      "Epoch 31, CIFAR-10 Batch 1:  Loss:       0.0426   Validation Accuracy:   0.622000\n",
      "Epoch 32, CIFAR-10 Batch 1:  Loss:       0.0413   Validation Accuracy:   0.617000\n",
      "Epoch 33, CIFAR-10 Batch 1:  Loss:       0.0293   Validation Accuracy:   0.623000\n",
      "Epoch 34, CIFAR-10 Batch 1:  Loss:       0.0191   Validation Accuracy:   0.624000\n",
      "Epoch 35, CIFAR-10 Batch 1:  Loss:       0.0266   Validation Accuracy:   0.634500\n",
      "Epoch 36, CIFAR-10 Batch 1:  Loss:       0.0171   Validation Accuracy:   0.638500\n",
      "Epoch 37, CIFAR-10 Batch 1:  Loss:       0.0237   Validation Accuracy:   0.633000\n",
      "Epoch 38, CIFAR-10 Batch 1:  Loss:       0.0123   Validation Accuracy:   0.617500\n",
      "Epoch 39, CIFAR-10 Batch 1:  Loss:       0.0040   Validation Accuracy:   0.635000\n",
      "Epoch 40, CIFAR-10 Batch 1:  Loss:       0.0075   Validation Accuracy:   0.623000\n",
      "Epoch 41, CIFAR-10 Batch 1:  Loss:       0.0088   Validation Accuracy:   0.629500\n",
      "Epoch 42, CIFAR-10 Batch 1:  Loss:       0.0031   Validation Accuracy:   0.625000\n",
      "Epoch 43, CIFAR-10 Batch 1:  Loss:       0.0039   Validation Accuracy:   0.615000\n",
      "Epoch 44, CIFAR-10 Batch 1:  Loss:       0.0020   Validation Accuracy:   0.622000\n",
      "Epoch 45, CIFAR-10 Batch 1:  Loss:       0.0030   Validation Accuracy:   0.622500\n",
      "Epoch 46, CIFAR-10 Batch 1:  Loss:       0.0031   Validation Accuracy:   0.630000\n",
      "Epoch 47, CIFAR-10 Batch 1:  Loss:       0.0009   Validation Accuracy:   0.637000\n",
      "Epoch 48, CIFAR-10 Batch 1:  Loss:       0.0021   Validation Accuracy:   0.620500\n",
      "Epoch 49, CIFAR-10 Batch 1:  Loss:       0.0012   Validation Accuracy:   0.644000\n",
      "Epoch 50, CIFAR-10 Batch 1:  Loss:       0.0005   Validation Accuracy:   0.634000\n"
     ]
    }
   ],
   "source": [
    "\"\"\"\n",
    "DON'T MODIFY ANYTHING IN THIS CELL\n",
    "\"\"\"\n",
    "print('Checking the Training on a Single Batch...')\n",
    "with tf.Session() as sess:\n",
    "    # Initializing the variables\n",
    "    sess.run(tf.global_variables_initializer())\n",
    "    \n",
    "    # Training cycle\n",
    "    for epoch in range(epochs):\n",
    "        batch_i = 1\n",
    "        for batch_features, batch_labels in helper.load_preprocess_training_batch(batch_i, batch_size):\n",
    "            train_neural_network(sess, optimizer, keep_probability, batch_features, batch_labels)\n",
    "        print('Epoch {:>2}, CIFAR-10 Batch {}:  '.format(epoch + 1, batch_i), end='')\n",
    "        print_stats(sess, batch_features, batch_labels, cost, accuracy)"
   ]
  },
  {
   "cell_type": "markdown",
   "metadata": {},
   "source": [
    "### Fully Train the Model\n",
    "Now that you got a good accuracy with a single CIFAR-10 batch, try it with all five batches."
   ]
  },
  {
   "cell_type": "code",
   "execution_count": 88,
   "metadata": {
    "collapsed": false
   },
   "outputs": [
    {
     "name": "stdout",
     "output_type": "stream",
     "text": [
      "Training...\n",
      "Epoch  1, CIFAR-10 Batch 1:  Loss:       2.2984   Validation Accuracy:   0.156500\n",
      "Epoch  1, CIFAR-10 Batch 2:  Loss:       2.1476   Validation Accuracy:   0.193500\n",
      "Epoch  1, CIFAR-10 Batch 3:  Loss:       1.9169   Validation Accuracy:   0.244000\n",
      "Epoch  1, CIFAR-10 Batch 4:  Loss:       1.8072   Validation Accuracy:   0.337500\n",
      "Epoch  1, CIFAR-10 Batch 5:  Loss:       1.7325   Validation Accuracy:   0.387000\n",
      "Epoch  2, CIFAR-10 Batch 1:  Loss:       1.8230   Validation Accuracy:   0.430500\n",
      "Epoch  2, CIFAR-10 Batch 2:  Loss:       1.5900   Validation Accuracy:   0.452500\n",
      "Epoch  2, CIFAR-10 Batch 3:  Loss:       1.3525   Validation Accuracy:   0.459500\n",
      "Epoch  2, CIFAR-10 Batch 4:  Loss:       1.5314   Validation Accuracy:   0.484000\n",
      "Epoch  2, CIFAR-10 Batch 5:  Loss:       1.4111   Validation Accuracy:   0.484500\n",
      "Epoch  3, CIFAR-10 Batch 1:  Loss:       1.4416   Validation Accuracy:   0.519000\n",
      "Epoch  3, CIFAR-10 Batch 2:  Loss:       1.2910   Validation Accuracy:   0.516000\n",
      "Epoch  3, CIFAR-10 Batch 3:  Loss:       1.2964   Validation Accuracy:   0.499500\n",
      "Epoch  3, CIFAR-10 Batch 4:  Loss:       1.2252   Validation Accuracy:   0.538500\n",
      "Epoch  3, CIFAR-10 Batch 5:  Loss:       1.2828   Validation Accuracy:   0.520000\n",
      "Epoch  4, CIFAR-10 Batch 1:  Loss:       1.1821   Validation Accuracy:   0.559500\n",
      "Epoch  4, CIFAR-10 Batch 2:  Loss:       1.0174   Validation Accuracy:   0.566500\n",
      "Epoch  4, CIFAR-10 Batch 3:  Loss:       1.0479   Validation Accuracy:   0.555500\n",
      "Epoch  4, CIFAR-10 Batch 4:  Loss:       0.9845   Validation Accuracy:   0.596000\n",
      "Epoch  4, CIFAR-10 Batch 5:  Loss:       1.2240   Validation Accuracy:   0.554500\n",
      "Epoch  5, CIFAR-10 Batch 1:  Loss:       1.0722   Validation Accuracy:   0.591000\n",
      "Epoch  5, CIFAR-10 Batch 2:  Loss:       0.9654   Validation Accuracy:   0.603500\n",
      "Epoch  5, CIFAR-10 Batch 3:  Loss:       0.8439   Validation Accuracy:   0.598500\n",
      "Epoch  5, CIFAR-10 Batch 4:  Loss:       1.0340   Validation Accuracy:   0.607000\n",
      "Epoch  5, CIFAR-10 Batch 5:  Loss:       0.9740   Validation Accuracy:   0.593500\n",
      "Epoch  6, CIFAR-10 Batch 1:  Loss:       0.9122   Validation Accuracy:   0.636500\n",
      "Epoch  6, CIFAR-10 Batch 2:  Loss:       0.7831   Validation Accuracy:   0.647500\n",
      "Epoch  6, CIFAR-10 Batch 3:  Loss:       0.6838   Validation Accuracy:   0.619000\n",
      "Epoch  6, CIFAR-10 Batch 4:  Loss:       0.7446   Validation Accuracy:   0.651000\n",
      "Epoch  6, CIFAR-10 Batch 5:  Loss:       0.8497   Validation Accuracy:   0.631500\n",
      "Epoch  7, CIFAR-10 Batch 1:  Loss:       0.8210   Validation Accuracy:   0.666000\n",
      "Epoch  7, CIFAR-10 Batch 2:  Loss:       0.6731   Validation Accuracy:   0.663000\n",
      "Epoch  7, CIFAR-10 Batch 3:  Loss:       0.4704   Validation Accuracy:   0.669000\n",
      "Epoch  7, CIFAR-10 Batch 4:  Loss:       0.7400   Validation Accuracy:   0.674500\n",
      "Epoch  7, CIFAR-10 Batch 5:  Loss:       0.7651   Validation Accuracy:   0.644500\n",
      "Epoch  8, CIFAR-10 Batch 1:  Loss:       0.6221   Validation Accuracy:   0.671500\n",
      "Epoch  8, CIFAR-10 Batch 2:  Loss:       0.5965   Validation Accuracy:   0.687500\n",
      "Epoch  8, CIFAR-10 Batch 3:  Loss:       0.4452   Validation Accuracy:   0.684000\n",
      "Epoch  8, CIFAR-10 Batch 4:  Loss:       0.6934   Validation Accuracy:   0.691000\n",
      "Epoch  8, CIFAR-10 Batch 5:  Loss:       0.5331   Validation Accuracy:   0.675500\n",
      "Epoch  9, CIFAR-10 Batch 1:  Loss:       0.5066   Validation Accuracy:   0.693000\n",
      "Epoch  9, CIFAR-10 Batch 2:  Loss:       0.4325   Validation Accuracy:   0.683500\n",
      "Epoch  9, CIFAR-10 Batch 3:  Loss:       0.4278   Validation Accuracy:   0.688000\n",
      "Epoch  9, CIFAR-10 Batch 4:  Loss:       0.4780   Validation Accuracy:   0.700500\n",
      "Epoch  9, CIFAR-10 Batch 5:  Loss:       0.4155   Validation Accuracy:   0.709500\n",
      "Epoch 10, CIFAR-10 Batch 1:  Loss:       0.5715   Validation Accuracy:   0.702000\n",
      "Epoch 10, CIFAR-10 Batch 2:  Loss:       0.4662   Validation Accuracy:   0.700500\n",
      "Epoch 10, CIFAR-10 Batch 3:  Loss:       0.3144   Validation Accuracy:   0.697000\n",
      "Epoch 10, CIFAR-10 Batch 4:  Loss:       0.5289   Validation Accuracy:   0.706000\n",
      "Epoch 10, CIFAR-10 Batch 5:  Loss:       0.4042   Validation Accuracy:   0.707500\n",
      "Epoch 11, CIFAR-10 Batch 1:  Loss:       0.4711   Validation Accuracy:   0.710000\n",
      "Epoch 11, CIFAR-10 Batch 2:  Loss:       0.4454   Validation Accuracy:   0.699000\n",
      "Epoch 11, CIFAR-10 Batch 3:  Loss:       0.2922   Validation Accuracy:   0.718500\n",
      "Epoch 11, CIFAR-10 Batch 4:  Loss:       0.3603   Validation Accuracy:   0.719500\n",
      "Epoch 11, CIFAR-10 Batch 5:  Loss:       0.3452   Validation Accuracy:   0.711000\n",
      "Epoch 12, CIFAR-10 Batch 1:  Loss:       0.4005   Validation Accuracy:   0.727500\n",
      "Epoch 12, CIFAR-10 Batch 2:  Loss:       0.2673   Validation Accuracy:   0.719000\n",
      "Epoch 12, CIFAR-10 Batch 3:  Loss:       0.2210   Validation Accuracy:   0.729500\n",
      "Epoch 12, CIFAR-10 Batch 4:  Loss:       0.3066   Validation Accuracy:   0.709500\n",
      "Epoch 12, CIFAR-10 Batch 5:  Loss:       0.2505   Validation Accuracy:   0.727500\n",
      "Epoch 13, CIFAR-10 Batch 1:  Loss:       0.2949   Validation Accuracy:   0.734500\n",
      "Epoch 13, CIFAR-10 Batch 2:  Loss:       0.2718   Validation Accuracy:   0.716000\n",
      "Epoch 13, CIFAR-10 Batch 3:  Loss:       0.2174   Validation Accuracy:   0.728500\n",
      "Epoch 13, CIFAR-10 Batch 4:  Loss:       0.2409   Validation Accuracy:   0.721000\n",
      "Epoch 13, CIFAR-10 Batch 5:  Loss:       0.2042   Validation Accuracy:   0.727000\n",
      "Epoch 14, CIFAR-10 Batch 1:  Loss:       0.1728   Validation Accuracy:   0.730500\n",
      "Epoch 14, CIFAR-10 Batch 2:  Loss:       0.1747   Validation Accuracy:   0.705500\n",
      "Epoch 14, CIFAR-10 Batch 3:  Loss:       0.1482   Validation Accuracy:   0.747000\n",
      "Epoch 14, CIFAR-10 Batch 4:  Loss:       0.3511   Validation Accuracy:   0.724500\n",
      "Epoch 14, CIFAR-10 Batch 5:  Loss:       0.1500   Validation Accuracy:   0.734500\n",
      "Epoch 15, CIFAR-10 Batch 1:  Loss:       0.1354   Validation Accuracy:   0.737000\n",
      "Epoch 15, CIFAR-10 Batch 2:  Loss:       0.1619   Validation Accuracy:   0.732000\n",
      "Epoch 15, CIFAR-10 Batch 3:  Loss:       0.1395   Validation Accuracy:   0.718500\n",
      "Epoch 15, CIFAR-10 Batch 4:  Loss:       0.1494   Validation Accuracy:   0.730000\n",
      "Epoch 15, CIFAR-10 Batch 5:  Loss:       0.0850   Validation Accuracy:   0.743000\n",
      "Epoch 16, CIFAR-10 Batch 1:  Loss:       0.1851   Validation Accuracy:   0.737500\n",
      "Epoch 16, CIFAR-10 Batch 2:  Loss:       0.1547   Validation Accuracy:   0.733000\n",
      "Epoch 16, CIFAR-10 Batch 3:  Loss:       0.1242   Validation Accuracy:   0.739500\n",
      "Epoch 16, CIFAR-10 Batch 4:  Loss:       0.1837   Validation Accuracy:   0.729000\n",
      "Epoch 16, CIFAR-10 Batch 5:  Loss:       0.0926   Validation Accuracy:   0.748000\n",
      "Epoch 17, CIFAR-10 Batch 1:  Loss:       0.1130   Validation Accuracy:   0.750500\n",
      "Epoch 17, CIFAR-10 Batch 2:  Loss:       0.1491   Validation Accuracy:   0.747000\n",
      "Epoch 17, CIFAR-10 Batch 3:  Loss:       0.0895   Validation Accuracy:   0.745000\n",
      "Epoch 17, CIFAR-10 Batch 4:  Loss:       0.1454   Validation Accuracy:   0.756000\n",
      "Epoch 17, CIFAR-10 Batch 5:  Loss:       0.0869   Validation Accuracy:   0.741000\n",
      "Epoch 18, CIFAR-10 Batch 1:  Loss:       0.1003   Validation Accuracy:   0.739500\n",
      "Epoch 18, CIFAR-10 Batch 2:  Loss:       0.0810   Validation Accuracy:   0.754000\n",
      "Epoch 18, CIFAR-10 Batch 3:  Loss:       0.0730   Validation Accuracy:   0.743500\n",
      "Epoch 18, CIFAR-10 Batch 4:  Loss:       0.1296   Validation Accuracy:   0.740500\n",
      "Epoch 18, CIFAR-10 Batch 5:  Loss:       0.0669   Validation Accuracy:   0.754000\n",
      "Epoch 19, CIFAR-10 Batch 1:  Loss:       0.0447   Validation Accuracy:   0.760000\n",
      "Epoch 19, CIFAR-10 Batch 2:  Loss:       0.1130   Validation Accuracy:   0.749500\n",
      "Epoch 19, CIFAR-10 Batch 3:  Loss:       0.0590   Validation Accuracy:   0.745500\n",
      "Epoch 19, CIFAR-10 Batch 4:  Loss:       0.0859   Validation Accuracy:   0.730000\n",
      "Epoch 19, CIFAR-10 Batch 5:  Loss:       0.0380   Validation Accuracy:   0.756000\n",
      "Epoch 20, CIFAR-10 Batch 1:  Loss:       0.0176   Validation Accuracy:   0.761500\n",
      "Epoch 20, CIFAR-10 Batch 2:  Loss:       0.0662   Validation Accuracy:   0.759500\n",
      "Epoch 20, CIFAR-10 Batch 3:  Loss:       0.0435   Validation Accuracy:   0.736500\n",
      "Epoch 20, CIFAR-10 Batch 4:  Loss:       0.0715   Validation Accuracy:   0.739000\n",
      "Epoch 20, CIFAR-10 Batch 5:  Loss:       0.0312   Validation Accuracy:   0.749000\n",
      "Epoch 21, CIFAR-10 Batch 1:  Loss:       0.0405   Validation Accuracy:   0.756500\n",
      "Epoch 21, CIFAR-10 Batch 2:  Loss:       0.0412   Validation Accuracy:   0.756000\n",
      "Epoch 21, CIFAR-10 Batch 3:  Loss:       0.0829   Validation Accuracy:   0.728500\n",
      "Epoch 21, CIFAR-10 Batch 4:  Loss:       0.0396   Validation Accuracy:   0.746000\n",
      "Epoch 21, CIFAR-10 Batch 5:  Loss:       0.0538   Validation Accuracy:   0.752000\n",
      "Epoch 22, CIFAR-10 Batch 1:  Loss:       0.0409   Validation Accuracy:   0.742500\n",
      "Epoch 22, CIFAR-10 Batch 2:  Loss:       0.0261   Validation Accuracy:   0.758500\n",
      "Epoch 22, CIFAR-10 Batch 3:  Loss:       0.0558   Validation Accuracy:   0.733500\n",
      "Epoch 22, CIFAR-10 Batch 4:  Loss:       0.0302   Validation Accuracy:   0.753000\n",
      "Epoch 22, CIFAR-10 Batch 5:  Loss:       0.0573   Validation Accuracy:   0.754500\n",
      "Epoch 23, CIFAR-10 Batch 1:  Loss:       0.0111   Validation Accuracy:   0.759500\n",
      "Epoch 23, CIFAR-10 Batch 2:  Loss:       0.0293   Validation Accuracy:   0.759000\n",
      "Epoch 23, CIFAR-10 Batch 3:  Loss:       0.0110   Validation Accuracy:   0.752500\n",
      "Epoch 23, CIFAR-10 Batch 4:  Loss:       0.0387   Validation Accuracy:   0.764000\n",
      "Epoch 23, CIFAR-10 Batch 5:  Loss:       0.0208   Validation Accuracy:   0.761000\n",
      "Epoch 24, CIFAR-10 Batch 1:  Loss:       0.0171   Validation Accuracy:   0.759000\n",
      "Epoch 24, CIFAR-10 Batch 2:  Loss:       0.0118   Validation Accuracy:   0.768500\n",
      "Epoch 24, CIFAR-10 Batch 3:  Loss:       0.0091   Validation Accuracy:   0.758000\n",
      "Epoch 24, CIFAR-10 Batch 4:  Loss:       0.0081   Validation Accuracy:   0.765500\n",
      "Epoch 24, CIFAR-10 Batch 5:  Loss:       0.0122   Validation Accuracy:   0.738500\n",
      "Epoch 25, CIFAR-10 Batch 1:  Loss:       0.0238   Validation Accuracy:   0.755500\n",
      "Epoch 25, CIFAR-10 Batch 2:  Loss:       0.0104   Validation Accuracy:   0.750000\n",
      "Epoch 25, CIFAR-10 Batch 3:  Loss:       0.0096   Validation Accuracy:   0.757500\n",
      "Epoch 25, CIFAR-10 Batch 4:  Loss:       0.0177   Validation Accuracy:   0.767500\n",
      "Epoch 25, CIFAR-10 Batch 5:  Loss:       0.0656   Validation Accuracy:   0.727000\n",
      "Epoch 26, CIFAR-10 Batch 1:  Loss:       0.0064   Validation Accuracy:   0.748500\n",
      "Epoch 26, CIFAR-10 Batch 2:  Loss:       0.0173   Validation Accuracy:   0.762500\n",
      "Epoch 26, CIFAR-10 Batch 3:  Loss:       0.0164   Validation Accuracy:   0.768500\n",
      "Epoch 26, CIFAR-10 Batch 4:  Loss:       0.0233   Validation Accuracy:   0.759000\n",
      "Epoch 26, CIFAR-10 Batch 5:  Loss:       0.0097   Validation Accuracy:   0.751500\n",
      "Epoch 27, CIFAR-10 Batch 1:  Loss:       0.0476   Validation Accuracy:   0.744500\n",
      "Epoch 27, CIFAR-10 Batch 2:  Loss:       0.0060   Validation Accuracy:   0.736500\n",
      "Epoch 27, CIFAR-10 Batch 3:  Loss:       0.0056   Validation Accuracy:   0.763000\n",
      "Epoch 27, CIFAR-10 Batch 4:  Loss:       0.0146   Validation Accuracy:   0.760000\n",
      "Epoch 27, CIFAR-10 Batch 5:  Loss:       0.0030   Validation Accuracy:   0.769000\n",
      "Epoch 28, CIFAR-10 Batch 1:  Loss:       0.0164   Validation Accuracy:   0.747000\n",
      "Epoch 28, CIFAR-10 Batch 2:  Loss:       0.0066   Validation Accuracy:   0.753500\n",
      "Epoch 28, CIFAR-10 Batch 3:  Loss:       0.0052   Validation Accuracy:   0.767000\n",
      "Epoch 28, CIFAR-10 Batch 4:  Loss:       0.0114   Validation Accuracy:   0.761000\n",
      "Epoch 28, CIFAR-10 Batch 5:  Loss:       0.0097   Validation Accuracy:   0.755000\n",
      "Epoch 29, CIFAR-10 Batch 1:  Loss:       0.0065   Validation Accuracy:   0.738500\n",
      "Epoch 29, CIFAR-10 Batch 2:  Loss:       0.0038   Validation Accuracy:   0.756000\n",
      "Epoch 29, CIFAR-10 Batch 3:  Loss:       0.0040   Validation Accuracy:   0.769000\n",
      "Epoch 29, CIFAR-10 Batch 4:  Loss:       0.0030   Validation Accuracy:   0.767500\n",
      "Epoch 29, CIFAR-10 Batch 5:  Loss:       0.0069   Validation Accuracy:   0.762000\n",
      "Epoch 30, CIFAR-10 Batch 1:  Loss:       0.0050   Validation Accuracy:   0.746000\n",
      "Epoch 30, CIFAR-10 Batch 2:  Loss:       0.0044   Validation Accuracy:   0.763500\n",
      "Epoch 30, CIFAR-10 Batch 3:  Loss:       0.0023   Validation Accuracy:   0.775000\n",
      "Epoch 30, CIFAR-10 Batch 4:  Loss:       0.0060   Validation Accuracy:   0.761000\n",
      "Epoch 30, CIFAR-10 Batch 5:  Loss:       0.0041   Validation Accuracy:   0.754500\n",
      "Epoch 31, CIFAR-10 Batch 1:  Loss:       0.0066   Validation Accuracy:   0.752500\n",
      "Epoch 31, CIFAR-10 Batch 2:  Loss:       0.0034   Validation Accuracy:   0.775000\n",
      "Epoch 31, CIFAR-10 Batch 3:  Loss:       0.0011   Validation Accuracy:   0.772000\n",
      "Epoch 31, CIFAR-10 Batch 4:  Loss:       0.0070   Validation Accuracy:   0.761000\n",
      "Epoch 31, CIFAR-10 Batch 5:  Loss:       0.0040   Validation Accuracy:   0.764000\n",
      "Epoch 32, CIFAR-10 Batch 1:  Loss:       0.0014   Validation Accuracy:   0.766000\n",
      "Epoch 32, CIFAR-10 Batch 2:  Loss:       0.0040   Validation Accuracy:   0.770500\n",
      "Epoch 32, CIFAR-10 Batch 3:  Loss:       0.0021   Validation Accuracy:   0.779500\n",
      "Epoch 32, CIFAR-10 Batch 4:  Loss:       0.0056   Validation Accuracy:   0.753500\n",
      "Epoch 32, CIFAR-10 Batch 5:  Loss:       0.0014   Validation Accuracy:   0.775500\n",
      "Epoch 33, CIFAR-10 Batch 1:  Loss:       0.0033   Validation Accuracy:   0.751000\n",
      "Epoch 33, CIFAR-10 Batch 2:  Loss:       0.0020   Validation Accuracy:   0.761500\n",
      "Epoch 33, CIFAR-10 Batch 3:  Loss:       0.0018   Validation Accuracy:   0.771500\n",
      "Epoch 33, CIFAR-10 Batch 4:  Loss:       0.0041   Validation Accuracy:   0.754500\n",
      "Epoch 33, CIFAR-10 Batch 5:  Loss:       0.0038   Validation Accuracy:   0.760500\n",
      "Epoch 34, CIFAR-10 Batch 1:  Loss:       0.0029   Validation Accuracy:   0.758500\n",
      "Epoch 34, CIFAR-10 Batch 2:  Loss:       0.0032   Validation Accuracy:   0.764500\n",
      "Epoch 34, CIFAR-10 Batch 3:  Loss:       0.0047   Validation Accuracy:   0.772000\n",
      "Epoch 34, CIFAR-10 Batch 4:  Loss:       0.0052   Validation Accuracy:   0.763500\n",
      "Epoch 34, CIFAR-10 Batch 5:  Loss:       0.0035   Validation Accuracy:   0.747000\n",
      "Epoch 35, CIFAR-10 Batch 1:  Loss:       0.0014   Validation Accuracy:   0.758500\n",
      "Epoch 35, CIFAR-10 Batch 2:  Loss:       0.0004   Validation Accuracy:   0.760000\n",
      "Epoch 35, CIFAR-10 Batch 3:  Loss:       0.0038   Validation Accuracy:   0.770000\n",
      "Epoch 35, CIFAR-10 Batch 4:  Loss:       0.0043   Validation Accuracy:   0.769000\n",
      "Epoch 35, CIFAR-10 Batch 5:  Loss:       0.0012   Validation Accuracy:   0.752000\n",
      "Epoch 36, CIFAR-10 Batch 1:  Loss:       0.0039   Validation Accuracy:   0.756500\n",
      "Epoch 36, CIFAR-10 Batch 2:  Loss:       0.0010   Validation Accuracy:   0.772500\n",
      "Epoch 36, CIFAR-10 Batch 3:  Loss:       0.0010   Validation Accuracy:   0.764500\n",
      "Epoch 36, CIFAR-10 Batch 4:  Loss:       0.0269   Validation Accuracy:   0.772500\n",
      "Epoch 36, CIFAR-10 Batch 5:  Loss:       0.0017   Validation Accuracy:   0.763500\n",
      "Epoch 37, CIFAR-10 Batch 1:  Loss:       0.0019   Validation Accuracy:   0.770500\n",
      "Epoch 37, CIFAR-10 Batch 2:  Loss:       0.0008   Validation Accuracy:   0.765000\n",
      "Epoch 37, CIFAR-10 Batch 3:  Loss:       0.0006   Validation Accuracy:   0.782500\n",
      "Epoch 37, CIFAR-10 Batch 4:  Loss:       0.0029   Validation Accuracy:   0.773000\n",
      "Epoch 37, CIFAR-10 Batch 5:  Loss:       0.0011   Validation Accuracy:   0.753500\n",
      "Epoch 38, CIFAR-10 Batch 1:  Loss:       0.0024   Validation Accuracy:   0.766500\n",
      "Epoch 38, CIFAR-10 Batch 2:  Loss:       0.0024   Validation Accuracy:   0.755000\n",
      "Epoch 38, CIFAR-10 Batch 3:  Loss:       0.0041   Validation Accuracy:   0.772500\n",
      "Epoch 38, CIFAR-10 Batch 4:  Loss:       0.0161   Validation Accuracy:   0.775000\n",
      "Epoch 38, CIFAR-10 Batch 5:  Loss:       0.0006   Validation Accuracy:   0.775000\n",
      "Epoch 39, CIFAR-10 Batch 1:  Loss:       0.0001   Validation Accuracy:   0.759500\n",
      "Epoch 39, CIFAR-10 Batch 2:  Loss:       0.0003   Validation Accuracy:   0.774000\n",
      "Epoch 39, CIFAR-10 Batch 3:  Loss:       0.0008   Validation Accuracy:   0.776500\n",
      "Epoch 39, CIFAR-10 Batch 4:  Loss:       0.0071   Validation Accuracy:   0.770000\n",
      "Epoch 39, CIFAR-10 Batch 5:  Loss:       0.0005   Validation Accuracy:   0.773500\n",
      "Epoch 40, CIFAR-10 Batch 1:  Loss:       0.0009   Validation Accuracy:   0.756500\n",
      "Epoch 40, CIFAR-10 Batch 2:  Loss:       0.0009   Validation Accuracy:   0.758000\n",
      "Epoch 40, CIFAR-10 Batch 3:  Loss:       0.0048   Validation Accuracy:   0.763500\n",
      "Epoch 40, CIFAR-10 Batch 4:  Loss:       0.0014   Validation Accuracy:   0.768000\n",
      "Epoch 40, CIFAR-10 Batch 5:  Loss:       0.0006   Validation Accuracy:   0.776500\n",
      "Epoch 41, CIFAR-10 Batch 1:  Loss:       0.0009   Validation Accuracy:   0.775000\n",
      "Epoch 41, CIFAR-10 Batch 2:  Loss:       0.0002   Validation Accuracy:   0.766000\n",
      "Epoch 41, CIFAR-10 Batch 3:  Loss:       0.0237   Validation Accuracy:   0.767500\n",
      "Epoch 41, CIFAR-10 Batch 4:  Loss:       0.0029   Validation Accuracy:   0.780500\n",
      "Epoch 41, CIFAR-10 Batch 5:  Loss:       0.0003   Validation Accuracy:   0.771500\n",
      "Epoch 42, CIFAR-10 Batch 1:  Loss:       0.0001   Validation Accuracy:   0.767000\n",
      "Epoch 42, CIFAR-10 Batch 2:  Loss:       0.0009   Validation Accuracy:   0.771000\n",
      "Epoch 42, CIFAR-10 Batch 3:  Loss:       0.0003   Validation Accuracy:   0.773000\n",
      "Epoch 42, CIFAR-10 Batch 4:  Loss:       0.0004   Validation Accuracy:   0.770000\n",
      "Epoch 42, CIFAR-10 Batch 5:  Loss:       0.0001   Validation Accuracy:   0.771000\n",
      "Epoch 43, CIFAR-10 Batch 1:  Loss:       0.0004   Validation Accuracy:   0.763500\n",
      "Epoch 43, CIFAR-10 Batch 2:  Loss:       0.0047   Validation Accuracy:   0.764000\n",
      "Epoch 43, CIFAR-10 Batch 3:  Loss:       0.0015   Validation Accuracy:   0.769000\n",
      "Epoch 43, CIFAR-10 Batch 4:  Loss:       0.0001   Validation Accuracy:   0.763000\n",
      "Epoch 43, CIFAR-10 Batch 5:  Loss:       0.0006   Validation Accuracy:   0.763000\n",
      "Epoch 44, CIFAR-10 Batch 1:  Loss:       0.0002   Validation Accuracy:   0.759000\n",
      "Epoch 44, CIFAR-10 Batch 2:  Loss:       0.0010   Validation Accuracy:   0.760000\n",
      "Epoch 44, CIFAR-10 Batch 3:  Loss:       0.0074   Validation Accuracy:   0.756000\n",
      "Epoch 44, CIFAR-10 Batch 4:  Loss:       0.0006   Validation Accuracy:   0.761000\n",
      "Epoch 44, CIFAR-10 Batch 5:  Loss:       0.0003   Validation Accuracy:   0.772000\n",
      "Epoch 45, CIFAR-10 Batch 1:  Loss:       0.0002   Validation Accuracy:   0.772000\n",
      "Epoch 45, CIFAR-10 Batch 2:  Loss:       0.0004   Validation Accuracy:   0.768500\n",
      "Epoch 45, CIFAR-10 Batch 3:  Loss:       0.0001   Validation Accuracy:   0.773500\n",
      "Epoch 45, CIFAR-10 Batch 4:  Loss:       0.0045   Validation Accuracy:   0.765000\n",
      "Epoch 45, CIFAR-10 Batch 5:  Loss:       0.0006   Validation Accuracy:   0.768500\n",
      "Epoch 46, CIFAR-10 Batch 1:  Loss:       0.0003   Validation Accuracy:   0.753000\n",
      "Epoch 46, CIFAR-10 Batch 2:  Loss:       0.0004   Validation Accuracy:   0.760000\n",
      "Epoch 46, CIFAR-10 Batch 3:  Loss:       0.0002   Validation Accuracy:   0.762500\n",
      "Epoch 46, CIFAR-10 Batch 4:  Loss:       0.0004   Validation Accuracy:   0.773500\n",
      "Epoch 46, CIFAR-10 Batch 5:  Loss:       0.0010   Validation Accuracy:   0.758500\n",
      "Epoch 47, CIFAR-10 Batch 1:  Loss:       0.0002   Validation Accuracy:   0.779000\n",
      "Epoch 47, CIFAR-10 Batch 2:  Loss:       0.0003   Validation Accuracy:   0.767000\n",
      "Epoch 47, CIFAR-10 Batch 3:  Loss:       0.0005   Validation Accuracy:   0.783000\n",
      "Epoch 47, CIFAR-10 Batch 4:  Loss:       0.0006   Validation Accuracy:   0.779500\n",
      "Epoch 47, CIFAR-10 Batch 5:  Loss:       0.0013   Validation Accuracy:   0.782500\n",
      "Epoch 48, CIFAR-10 Batch 1:  Loss:       0.0002   Validation Accuracy:   0.775000\n",
      "Epoch 48, CIFAR-10 Batch 2:  Loss:       0.0021   Validation Accuracy:   0.770000\n",
      "Epoch 48, CIFAR-10 Batch 3:  Loss:       0.0001   Validation Accuracy:   0.763000\n",
      "Epoch 48, CIFAR-10 Batch 4:  Loss:       0.0017   Validation Accuracy:   0.774000\n",
      "Epoch 48, CIFAR-10 Batch 5:  Loss:       0.0002   Validation Accuracy:   0.777000\n",
      "Epoch 49, CIFAR-10 Batch 1:  Loss:       0.0001   Validation Accuracy:   0.776500\n",
      "Epoch 49, CIFAR-10 Batch 2:  Loss:       0.0112   Validation Accuracy:   0.763500\n",
      "Epoch 49, CIFAR-10 Batch 3:  Loss:       0.0004   Validation Accuracy:   0.760500\n",
      "Epoch 49, CIFAR-10 Batch 4:  Loss:       0.0017   Validation Accuracy:   0.780000\n",
      "Epoch 49, CIFAR-10 Batch 5:  Loss:       0.0002   Validation Accuracy:   0.762500\n",
      "Epoch 50, CIFAR-10 Batch 1:  Loss:       0.0014   Validation Accuracy:   0.770500\n",
      "Epoch 50, CIFAR-10 Batch 2:  Loss:       0.0029   Validation Accuracy:   0.766000\n",
      "Epoch 50, CIFAR-10 Batch 3:  Loss:       0.0001   Validation Accuracy:   0.775000\n",
      "Epoch 50, CIFAR-10 Batch 4:  Loss:       0.0012   Validation Accuracy:   0.761000\n",
      "Epoch 50, CIFAR-10 Batch 5:  Loss:       0.0000   Validation Accuracy:   0.776500\n"
     ]
    }
   ],
   "source": [
    "\"\"\"\n",
    "DON'T MODIFY ANYTHING IN THIS CELL\n",
    "\"\"\"\n",
    "save_model_path = './image_classification'\n",
    "\n",
    "print('Training...')\n",
    "with tf.Session() as sess:\n",
    "    # Initializing the variables\n",
    "    sess.run(tf.global_variables_initializer())\n",
    "    \n",
    "    # Training cycle\n",
    "    for epoch in range(epochs):\n",
    "        # Loop over all batches\n",
    "        n_batches = 5\n",
    "        for batch_i in range(1, n_batches + 1):\n",
    "            for batch_features, batch_labels in helper.load_preprocess_training_batch(batch_i, batch_size):\n",
    "                train_neural_network(sess, optimizer, keep_probability, batch_features, batch_labels)\n",
    "            print('Epoch {:>2}, CIFAR-10 Batch {}:  '.format(epoch + 1, batch_i), end='')\n",
    "            print_stats(sess, batch_features, batch_labels, cost, accuracy)\n",
    "            \n",
    "    # Save Model\n",
    "    saver = tf.train.Saver()\n",
    "    save_path = saver.save(sess, save_model_path)"
   ]
  },
  {
   "cell_type": "markdown",
   "metadata": {},
   "source": [
    "# Checkpoint\n",
    "The model has been saved to disk.\n",
    "## Test Model\n",
    "Test your model against the test dataset.  This will be your final accuracy. You should have an accuracy greater than 50%. If you don't, keep tweaking the model architecture and parameters."
   ]
  },
  {
   "cell_type": "code",
   "execution_count": 3,
   "metadata": {
    "collapsed": false,
    "scrolled": true
   },
   "outputs": [
    {
     "name": "stdout",
     "output_type": "stream",
     "text": [
      "Testing Accuracy: 0.765625\n",
      "\n"
     ]
    },
    {
     "data": {
      "image/png": "[encoded data removed]",
      "text/plain": [
       "<matplotlib.figure.Figure at 0x2c48e30a7b8>"
      ]
     },
     "metadata": {
      "image/png": {
       "height": 319,
       "width": 355
      }
     },
     "output_type": "display_data"
    }
   ],
   "source": [
    "\"\"\"\n",
    "DON'T MODIFY ANYTHING IN THIS CELL\n",
    "\"\"\"\n",
    "%matplotlib inline\n",
    "%config InlineBackend.figure_format = 'retina'\n",
    "\n",
    "import tensorflow as tf\n",
    "import pickle\n",
    "import helper\n",
    "import random\n",
    "\n",
    "# Set batch size if not already set\n",
    "try:\n",
    "    if batch_size:\n",
    "        pass\n",
    "except NameError:\n",
    "    batch_size = 64\n",
    "\n",
    "save_model_path = './image_classification'\n",
    "n_samples = 4\n",
    "top_n_predictions = 3\n",
    "\n",
    "def test_model():\n",
    "    \"\"\"\n",
    "    Test the saved model against the test dataset\n",
    "    \"\"\"\n",
    "\n",
    "    test_features, test_labels = pickle.load(open('preprocess_training.p', mode='rb'))\n",
    "    loaded_graph = tf.Graph()\n",
    "\n",
    "    with tf.Session(graph=loaded_graph) as sess:\n",
    "        # Load model\n",
    "        loader = tf.train.import_meta_graph(save_model_path + '.meta')\n",
    "        loader.restore(sess, save_model_path)\n",
    "\n",
    "        # Get Tensors from loaded model\n",
    "        loaded_x = loaded_graph.get_tensor_by_name('x:0')\n",
    "        loaded_y = loaded_graph.get_tensor_by_name('y:0')\n",
    "        loaded_keep_prob = loaded_graph.get_tensor_by_name('keep_prob:0')\n",
    "        loaded_logits = loaded_graph.get_tensor_by_name('logits:0')\n",
    "        loaded_acc = loaded_graph.get_tensor_by_name('accuracy:0')\n",
    "        \n",
    "        # Get accuracy in batches for memory limitations\n",
    "        test_batch_acc_total = 0\n",
    "        test_batch_count = 0\n",
    "        \n",
    "        for train_feature_batch, train_label_batch in helper.batch_features_labels(test_features, test_labels, batch_size):\n",
    "            test_batch_acc_total += sess.run(\n",
    "                loaded_acc,\n",
    "                feed_dict={loaded_x: train_feature_batch, loaded_y: train_label_batch, loaded_keep_prob: 1.0})\n",
    "            test_batch_count += 1\n",
    "\n",
    "        print('Testing Accuracy: {}\\n'.format(test_batch_acc_total/test_batch_count))\n",
    "\n",
    "        # Print Random Samples\n",
    "        random_test_features, random_test_labels = tuple(zip(*random.sample(list(zip(test_features, test_labels)), n_samples)))\n",
    "        random_test_predictions = sess.run(\n",
    "            tf.nn.top_k(tf.nn.softmax(loaded_logits), top_n_predictions),\n",
    "            feed_dict={loaded_x: random_test_features, loaded_y: random_test_labels, loaded_keep_prob: 1.0})\n",
    "        helper.display_image_predictions(random_test_features, random_test_labels, random_test_predictions)\n",
    "\n",
    "\n",
    "test_model()"
   ]
  },
  {
   "cell_type": "markdown",
   "metadata": {},
   "source": [
    "## Why 50-70% Accuracy?\n",
    "You might be wondering why you can't get an accuracy any higher. First things first, 50% isn't bad for a simple CNN.  Pure guessing would get you 10% accuracy. However, you might notice people are getting scores [well above 70%](http://rodrigob.github.io/are_we_there_yet/build/classification_datasets_results.html#43494641522d3130).  That's because we haven't taught you all there is to know about neural networks. We still need to cover a few more techniques.\n",
    "## Submitting This Project\n",
    "When submitting this project, make sure to run all the cells before saving the notebook.  Save the notebook file as \"dlnd_image_classification.ipynb\" and save it as a HTML file under \"File\" -> \"Download as\".  Include the \"helper.py\" and \"problem_unittests.py\" files in your submission."
   ]
  }
 ],
 "metadata": {
  "anaconda-cloud": {},
  "kernelspec": {
   "display_name": "Python 3",
   "language": "python",
   "name": "python3"
  },
  "language_info": {
   "codemirror_mode": {
    "name": "ipython",
    "version": 3
   },
   "file_extension": ".py",
   "mimetype": "text/x-python",
   "name": "python",
   "nbconvert_exporter": "python",
   "pygments_lexer": "ipython3",
   "version": "3.5.2"
  }
 },
 "nbformat": 4,
 "nbformat_minor": 0
}
